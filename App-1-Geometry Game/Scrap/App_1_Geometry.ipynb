{
 "cells": [
  {
   "cell_type": "markdown",
   "id": "f075348b",
   "metadata": {},
   "source": [
    "                                                      App 1 : Geometry Class"
   ]
  },
  {
   "cell_type": "code",
   "execution_count": 92,
   "id": "6543d8bb",
   "metadata": {},
   "outputs": [],
   "source": [
    "import math \n",
    "\n",
    "class Point:\n",
    "\n",
    "    def __init__(self,x,y):\n",
    "        self.x = x\n",
    "        self.y = y\n",
    "        \n",
    "    def falls_in_Rectangle(self,rectangle):\n",
    "        print(rectangle.lowleft.x,'<',self.x,'<',rectangle.upright.x)\n",
    "        print(rectangle.lowleft.y,'<',self.y,'<',rectangle.upright.y)\n",
    "        if rectangle.lowleft.x<self.x<rectangle.upright.x and rectangle.lowleft.y<self.y<rectangle.upright.y:\n",
    "            return True\n",
    "        else:\n",
    "            return False  \n",
    "    \n",
    "    def get_distance(self,point_1,point_2):\n",
    "        return math.sqrt((point_1.x-point_2.x)**2 + (point_1.y-point_2.y)**2)\n",
    "    \n",
    "\n",
    "class Rectangle:\n",
    "    \n",
    "    def __init__(self,lowleft,upright):\n",
    "        self.lowleft=lowleft\n",
    "        self.upright=upright\n",
    "        \n",
    "    def get_area(self):\n",
    "        length=self.upright.x-self.lowleft.x\n",
    "        width=self.upright.y-self.lowleft.y\n",
    "        area=length*width\n",
    "        return area\n",
    "        \n",
    "        \n",
    "        \n",
    "        \n",
    "        \n"
   ]
  },
  {
   "cell_type": "code",
   "execution_count": 94,
   "id": "6ca8b808",
   "metadata": {},
   "outputs": [
    {
     "name": "stdout",
     "output_type": "stream",
     "text": [
      "12\n"
     ]
    }
   ],
   "source": [
    "x=int(input('Enter x-coordinate : '))\n",
    "y=int(input('Enter y-coordinate : '))\n",
    "input_point=Point(x,y)\n",
    "rectangle_object=Rectangle(Point(0,0),Point(4,4))\n",
    "print('input_point.falls_in_Rectangle(rectangle_object)\n",
    "area=rectangle_object.get_area()\n",
    "print(area)"
   ]
  },
  {
   "cell_type": "code",
   "execution_count": null,
   "id": "439b781e",
   "metadata": {},
   "outputs": [],
   "source": []
  }
 ],
 "metadata": {
  "kernelspec": {
   "display_name": "Python 3 (ipykernel)",
   "language": "python",
   "name": "python3"
  },
  "language_info": {
   "codemirror_mode": {
    "name": "ipython",
    "version": 3
   },
   "file_extension": ".py",
   "mimetype": "text/x-python",
   "name": "python",
   "nbconvert_exporter": "python",
   "pygments_lexer": "ipython3",
   "version": "3.11.0"
  }
 },
 "nbformat": 4,
 "nbformat_minor": 5
}
